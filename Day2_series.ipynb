{
  "nbformat": 4,
  "nbformat_minor": 0,
  "metadata": {
    "colab": {
      "provenance": []
    },
    "kernelspec": {
      "name": "python3",
      "display_name": "Python 3"
    },
    "language_info": {
      "name": "python"
    }
  },
  "cells": [
    {
      "cell_type": "code",
      "execution_count": null,
      "metadata": {
        "id": "hPeGpZW18B5b"
      },
      "outputs": [],
      "source": [
        "import pandas as pd\n",
        "import numpy as np"
      ]
    },
    {
      "cell_type": "code",
      "source": [
        "#creating a series from a python list\n",
        "myindex = ['USA','Canada','England']\n",
        "mydata = [1776,1867,1821]"
      ],
      "metadata": {
        "id": "WAlU8Se18I7V"
      },
      "execution_count": null,
      "outputs": []
    },
    {
      "cell_type": "code",
      "source": [
        "#Just the numeric index\n",
        "myser = pd.Series(data=mydata)\n",
        "print(myser)"
      ],
      "metadata": {
        "colab": {
          "base_uri": "https://localhost:8080/"
        },
        "id": "Eu0BOuVv8H8P",
        "outputId": "4cec1a7b-51d7-403c-f4dd-a591ba62af64"
      },
      "execution_count": null,
      "outputs": [
        {
          "output_type": "stream",
          "name": "stdout",
          "text": [
            "0    1776\n",
            "1    1867\n",
            "2    1821\n",
            "dtype: int64\n"
          ]
        }
      ]
    },
    {
      "cell_type": "code",
      "source": [
        "#Now the named index\n",
        "myser = pd.Series(data = mydata,index = myindex)\n",
        "print(myser)"
      ],
      "metadata": {
        "colab": {
          "base_uri": "https://localhost:8080/"
        },
        "id": "7dowX2Qb8H6E",
        "outputId": "62693950-fa75-4aa7-f2b5-564e4c052bc3"
      },
      "execution_count": null,
      "outputs": [
        {
          "output_type": "stream",
          "name": "stdout",
          "text": [
            "USA        1776\n",
            "Canada     1867\n",
            "England    1821\n",
            "dtype: int64\n"
          ]
        }
      ]
    },
    {
      "cell_type": "code",
      "source": [
        "ran_data = np.random.randint(0,100,4)\n",
        "print(ran_data)\n"
      ],
      "metadata": {
        "id": "BkNy5kLz8H3c"
      },
      "execution_count": null,
      "outputs": []
    },
    {
      "cell_type": "code",
      "source": [],
      "metadata": {
        "id": "Tm09dSk98H1X"
      },
      "execution_count": null,
      "outputs": []
    },
    {
      "cell_type": "code",
      "source": [
        "#Creating a series from dictionary\n",
        "ages = {'Sammy':5,'Frank':10,'Spike':7}\n",
        "print(ages)\n",
        "print(pd.Series(ages))"
      ],
      "metadata": {
        "colab": {
          "base_uri": "https://localhost:8080/"
        },
        "id": "P6cHNa_58Hy2",
        "outputId": "1955141f-90aa-4e65-8f25-467a4d1062b4"
      },
      "execution_count": null,
      "outputs": [
        {
          "output_type": "stream",
          "name": "stdout",
          "text": [
            "{'Sammy': 5, 'Frank': 10, 'Spike': 7}\n",
            "Sammy     5\n",
            "Frank    10\n",
            "Spike     7\n",
            "dtype: int64\n"
          ]
        }
      ]
    },
    {
      "cell_type": "code",
      "source": [
        "#Using named index\n",
        "#Imaginary sales data for 1st and 2nd quarters fro a global company\n",
        "q1 = {'Japan':80,'China':450,'India':200,'USA':250}\n",
        "q2 = {'Brazil':100,'China':500,'India':210,'USA':260}"
      ],
      "metadata": {
        "id": "0qhQo4Nj8Hwe"
      },
      "execution_count": null,
      "outputs": []
    },
    {
      "cell_type": "code",
      "source": [
        "#Convert into pandas series\n",
        "sales_Q1 = pd.Series(q1)\n",
        "sales_Q2 = pd.Series(q2)\n",
        "print(sales_Q1)\n",
        "print(sales_Q2)"
      ],
      "metadata": {
        "colab": {
          "base_uri": "https://localhost:8080/"
        },
        "id": "3RImJOHc8HuU",
        "outputId": "7f66bf6a-38b7-4e3d-9fe6-bdbe99ce33f1"
      },
      "execution_count": null,
      "outputs": [
        {
          "output_type": "stream",
          "name": "stdout",
          "text": [
            "Japan     80\n",
            "China    450\n",
            "India    200\n",
            "USA      250\n",
            "dtype: int64\n",
            "Brazil    100\n",
            "China     500\n",
            "India     210\n",
            "USA       260\n",
            "dtype: int64\n"
          ]
        }
      ]
    },
    {
      "cell_type": "code",
      "source": [
        "#call vaklues based on Named Index\n",
        "print(sales_Q1['Japan'])\n",
        "#integer Based Location also retained!\n",
        "print(sales_Q1[0])"
      ],
      "metadata": {
        "colab": {
          "base_uri": "https://localhost:8080/"
        },
        "id": "9lpXervc8Hr9",
        "outputId": "6af560eb-52be-418f-c0e6-fb914ac99d7d"
      },
      "execution_count": null,
      "outputs": [
        {
          "output_type": "stream",
          "name": "stdout",
          "text": [
            "80\n",
            "80\n"
          ]
        },
        {
          "output_type": "stream",
          "name": "stderr",
          "text": [
            "<ipython-input-8-23560fa6a199>:4: FutureWarning: Series.__getitem__ treating keys as positions is deprecated. In a future version, integer keys will always be treated as labels (consistent with DataFrame behavior). To access a value by position, use `ser.iloc[pos]`\n",
            "  print(sales_Q1[0])\n"
          ]
        }
      ]
    },
    {
      "cell_type": "code",
      "source": [
        "#Be careful of potential errors!\n",
        "#Wrong name\n",
        "#print(sales_Q1['France])"
      ],
      "metadata": {
        "id": "2fSPIR5R8Hp0"
      },
      "execution_count": null,
      "outputs": []
    },
    {
      "cell_type": "code",
      "source": [
        "#Accidental extra space\n",
        "#print(sales_Q1['USA '])\n",
        "\n",
        "#Text case Mistake\n",
        "#print(sales_Q1['usa'])"
      ],
      "metadata": {
        "id": "lgQydBXx8Hng"
      },
      "execution_count": null,
      "outputs": []
    },
    {
      "cell_type": "code",
      "source": [
        "#series operations\n",
        "\n",
        "#grab just the index keys\n",
        "print(sales_Q1.keys())"
      ],
      "metadata": {
        "colab": {
          "base_uri": "https://localhost:8080/"
        },
        "id": "aZICiF4l8Hk5",
        "outputId": "f72e802f-5727-4681-af77-ef274348a50d"
      },
      "execution_count": null,
      "outputs": [
        {
          "output_type": "stream",
          "name": "stdout",
          "text": [
            "Index(['Japan', 'China', 'India', 'USA'], dtype='object')\n"
          ]
        }
      ]
    },
    {
      "cell_type": "code",
      "source": [
        "#can perform Operations Broadcasted across entire Series\n",
        "print(sales_Q1 * 2)\n",
        "print(sales_Q1 / 100)"
      ],
      "metadata": {
        "colab": {
          "base_uri": "https://localhost:8080/"
        },
        "id": "AJbPf4cIAJFY",
        "outputId": "02378eed-d2f9-48ff-8704-b09c08a400ea"
      },
      "execution_count": null,
      "outputs": [
        {
          "output_type": "stream",
          "name": "stdout",
          "text": [
            "Japan    160\n",
            "China    900\n",
            "India    400\n",
            "USA      500\n",
            "dtype: int64\n",
            "Japan    0.8\n",
            "China    4.5\n",
            "India    2.0\n",
            "USA      2.5\n",
            "dtype: float64\n"
          ]
        }
      ]
    },
    {
      "cell_type": "code",
      "source": [
        "#Notice how pandas informs you of mismatch with NaN\n",
        "print(sales_Q1 + sales_Q2)"
      ],
      "metadata": {
        "colab": {
          "base_uri": "https://localhost:8080/"
        },
        "id": "Yhb_xNADAJDD",
        "outputId": "9b6f98f6-ec80-4f4b-b481-f09b7ca67044"
      },
      "execution_count": null,
      "outputs": [
        {
          "output_type": "stream",
          "name": "stdout",
          "text": [
            "Brazil      NaN\n",
            "China     950.0\n",
            "India     410.0\n",
            "Japan       NaN\n",
            "USA       510.0\n",
            "dtype: float64\n"
          ]
        }
      ]
    },
    {
      "cell_type": "code",
      "source": [
        "#you can fill NaN with any matching data type value you want\n",
        "print(sales_Q1.add(sales_Q2,fill_value=0))"
      ],
      "metadata": {
        "colab": {
          "base_uri": "https://localhost:8080/"
        },
        "id": "nohUv_N-AJAa",
        "outputId": "a5476efb-3944-4412-ceb5-96fc30604772"
      },
      "execution_count": null,
      "outputs": [
        {
          "output_type": "stream",
          "name": "stdout",
          "text": [
            "Brazil    100.0\n",
            "China     950.0\n",
            "India     410.0\n",
            "Japan      80.0\n",
            "USA       510.0\n",
            "dtype: float64\n"
          ]
        }
      ]
    },
    {
      "cell_type": "code",
      "source": [],
      "metadata": {
        "id": "yvAjeFMJAI-R"
      },
      "execution_count": null,
      "outputs": []
    },
    {
      "cell_type": "code",
      "source": [],
      "metadata": {
        "id": "8T6SDsH_AI8D"
      },
      "execution_count": null,
      "outputs": []
    },
    {
      "cell_type": "code",
      "source": [],
      "metadata": {
        "id": "E3U-LD5rAI5y"
      },
      "execution_count": null,
      "outputs": []
    },
    {
      "cell_type": "code",
      "source": [],
      "metadata": {
        "id": "9R-lTuKrAI3A"
      },
      "execution_count": null,
      "outputs": []
    },
    {
      "cell_type": "code",
      "source": [],
      "metadata": {
        "id": "v3pdcH-YAI0Z"
      },
      "execution_count": null,
      "outputs": []
    }
  ]
}