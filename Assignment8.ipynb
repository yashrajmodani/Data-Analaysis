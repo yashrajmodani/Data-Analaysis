{
  "nbformat": 4,
  "nbformat_minor": 0,
  "metadata": {
    "colab": {
      "provenance": [],
      "include_colab_link": true
    },
    "kernelspec": {
      "name": "python3",
      "display_name": "Python 3"
    },
    "language_info": {
      "name": "python"
    }
  },
  "cells": [
    {
      "cell_type": "markdown",
      "metadata": {
        "id": "view-in-github",
        "colab_type": "text"
      },
      "source": [
        "<a href=\"https://colab.research.google.com/github/yashrajmodani/Data-Analaysis/blob/main/Assignment8.ipynb\" target=\"_parent\"><img src=\"https://colab.research.google.com/assets/colab-badge.svg\" alt=\"Open In Colab\"/></a>"
      ]
    },
    {
      "cell_type": "code",
      "execution_count": null,
      "metadata": {
        "colab": {
          "base_uri": "https://localhost:8080/"
        },
        "id": "7e9iET1gU0ww",
        "outputId": "5e596c9c-3905-4d71-9f98-05eb70aef7c9"
      },
      "outputs": [
        {
          "output_type": "stream",
          "name": "stdout",
          "text": [
            "Datetime object for Jan 15 2012 : 2012-01-15 00:00:00\n",
            "Specific date and time of 9:20 pm : 2024-10-21 19:20:00\n",
            "Local date and time :  2024-10-21 09:46:48.510481\n",
            "A date without time :  2012-01-15\n",
            "Current date :  2024-10-21\n",
            "Time from a datetime :  09:10:00\n",
            "Current local time :  09:46:48.517650\n"
          ]
        }
      ],
      "source": [
        "import pandas as pd\n",
        "import numpy as np\n",
        "import matplotlib.pyplot as plt\n",
        "import seaborn as sns\n",
        "\n",
        "#1. Write a Pandas program to create\n",
        "#a) Datetime object for Jan 15 2012.\n",
        "date = pd.to_datetime(\"2012-01-15\")\n",
        "print(\"Datetime object for Jan 15 2012 :\",date)\n",
        "\n",
        "#b) Specific date and time of 9:20 pm.\n",
        "date = pd.to_datetime(\"19:20:00\")\n",
        "print(\"Specific date and time of 9:20 pm :\",date)\n",
        "\n",
        "#c) Local date and time.\n",
        "date = pd.to_datetime(\"now\")\n",
        "print(\"Local date and time : \",date)\n",
        "\n",
        "#d) A date without time.\n",
        "date = pd.to_datetime(\"2012-01-15\").date()\n",
        "print(\"A date without time : \",date)\n",
        "\n",
        "#e) Current date.\n",
        "date = pd.to_datetime(\"now\").date()\n",
        "print(\"Current date : \",date)\n",
        "\n",
        "#f) Time from a datetime.\n",
        "date = pd.to_datetime(\"2012-12-25 09:10:00\").time()\n",
        "print(\"Time from a datetime : \",date)\n",
        "\n",
        "#g) Current local time.\n",
        "date = pd.to_datetime(\"now\").time()\n",
        "print(\"Current local time : \",date)"
      ]
    },
    {
      "cell_type": "code",
      "source": [
        "#Q2. Write a Pandas program to create\n",
        "# a) a specific date using timestamp.\n",
        "date = pd.Timestamp(\"2012-01-15\")\n",
        "print(\"Specific date using timestamp : \",date)\n",
        "\n",
        "#b) date and time using timestamp.\n",
        "date = pd.Timestamp(\"2012-01-15 09:10:00\")\n",
        "print(\"Specific date and time using timestamp : \",date)\n",
        "\n",
        "#c) a time adds in the current local date using timestamp.\n",
        "date = pd.Timestamp(\"13:45\")\n",
        "print(\"Time adds in the current local date using timestamp : \",date)\n",
        "\n",
        "#d) current date and time using timestamp.\n",
        "date = pd.Timestamp(\"now\")\n",
        "print(\"Current date and time using timestamp : \",date)"
      ],
      "metadata": {
        "colab": {
          "base_uri": "https://localhost:8080/"
        },
        "id": "R0pP8UHKbdmJ",
        "outputId": "ee193cc9-edd8-4ffe-cc6b-659f53099a4f"
      },
      "execution_count": null,
      "outputs": [
        {
          "output_type": "stream",
          "name": "stdout",
          "text": [
            "Specific date using timestamp :  2012-01-15 00:00:00\n",
            "Specific date and time using timestamp :  2012-01-15 09:10:00\n",
            "Time adds in the current local date using timestamp :  2024-10-21 13:45:00\n",
            "Current date and time using timestamp :  2024-10-21 09:49:37.717636\n"
          ]
        }
      ]
    },
    {
      "cell_type": "code",
      "source": [
        "#3. Write a Pandas program to create a date from a given year, month, day and\n",
        "# another date from a given string formats.\n",
        "date_from_components = pd.Timestamp(year=2012, month=1, day=15)\n",
        "date_from_string = pd.to_datetime(\"2012-01-15\")\n",
        "print(\"Date from components:\", date_from_components)\n",
        "print(\"Date from string:\", date_from_string)"
      ],
      "metadata": {
        "colab": {
          "base_uri": "https://localhost:8080/"
        },
        "id": "JSa4WHIodxlF",
        "outputId": "013d6834-542e-4340-ca2a-cf315a12730c"
      },
      "execution_count": null,
      "outputs": [
        {
          "output_type": "stream",
          "name": "stdout",
          "text": [
            "Date from components: 2012-01-15 00:00:00\n",
            "Date from string: 2012-01-15 00:00:00\n"
          ]
        }
      ]
    },
    {
      "cell_type": "code",
      "source": [
        "# 4. Write a Pandas program to print the day after and before a specified date. Also\n",
        "# print the days between two given dates.\n",
        "\n",
        "current_date = pd.Timestamp.today()\n",
        "print(\"Current date:\", current_date)\n",
        "yesterday_date = current_date - pd.Timedelta(days=1)\n",
        "print(\"Yesterday's date:\", yesterday_date)\n",
        "tomorrow_date = current_date + pd.Timedelta(days=1)\n",
        "print(\"Tomorrow's date:\", tomorrow_date)\n",
        "days_between = (current_date - yesterday_date).days\n",
        "print(\"Days between current date and yesterday's date:\", days_between)\n",
        "\n"
      ],
      "metadata": {
        "colab": {
          "base_uri": "https://localhost:8080/"
        },
        "id": "710bWvNoggce",
        "outputId": "116ecc5a-43ca-43cf-dda6-8bbf7cef541a"
      },
      "execution_count": null,
      "outputs": [
        {
          "output_type": "stream",
          "name": "stdout",
          "text": [
            "Current date: 2024-10-21 11:46:56.181530\n",
            "Yesterday's date: 2024-10-20 11:46:56.181530\n",
            "Tomorrow's date: 2024-10-22 11:46:56.181530\n",
            "Days between current date and yesterday's date: 1\n"
          ]
        }
      ]
    },
    {
      "cell_type": "code",
      "source": [
        "# 5. Write a Pandas program to create a time-series with two index labels and\n",
        "# random values. Also print the type of the index.\n",
        "\n",
        "date_range = pd.date_range(start='2024-01-01', periods=2, freq='D')\n",
        "\n",
        "random_values = np.random.rand(2)\n",
        "\n",
        "time_series = pd.Series(random_values, index=date_range)\n",
        "\n",
        "print(\"Time-Series:\")\n",
        "print(time_series)\n",
        "\n",
        "index_type = type(time_series.index)\n",
        "print(\"Type of the index:\", index_type)\n"
      ],
      "metadata": {
        "colab": {
          "base_uri": "https://localhost:8080/"
        },
        "id": "V3oXKOCymf1k",
        "outputId": "d6507437-cf89-4bd6-9eb3-755baad7a44e"
      },
      "execution_count": null,
      "outputs": [
        {
          "output_type": "stream",
          "name": "stdout",
          "text": [
            "Time-Series:\n",
            "2024-01-01    0.028793\n",
            "2024-01-02    0.242030\n",
            "Freq: D, dtype: float64\n",
            "Type of the index: <class 'pandas.core.indexes.datetimes.DatetimeIndex'>\n"
          ]
        }
      ]
    },
    {
      "cell_type": "code",
      "source": [
        "# 6. Write a Pandas program to create a time-series from a given list of dates as strings.\n",
        "dates = ['2023-10-26', '2023-10-27', '2023-10-28', '2023-10-29', '2023-10-30']\n",
        "time_series = pd.to_datetime(dates)\n",
        "print(\"Time-series from a list of dates as strings:\")\n",
        "print(time_series)"
      ],
      "metadata": {
        "colab": {
          "base_uri": "https://localhost:8080/"
        },
        "id": "7_L3fdvh5TPA",
        "outputId": "e6bc644b-d056-4cea-9574-6592390b2878"
      },
      "execution_count": null,
      "outputs": [
        {
          "output_type": "stream",
          "name": "stdout",
          "text": [
            "Time-series from a list of dates as strings:\n",
            "DatetimeIndex(['2023-10-26', '2023-10-27', '2023-10-28', '2023-10-29',\n",
            "               '2023-10-30'],\n",
            "              dtype='datetime64[ns]', freq=None)\n"
          ]
        }
      ]
    },
    {
      "cell_type": "code",
      "source": [
        "# 7. Write a Pandas program to create a time series object that has time indexed data. Also select the dates of same year and select the dates between certain dates.\n",
        "dates = pd.date_range('2023-10-26', periods=10, freq='D')\n",
        "time_series = pd.Series(np.random.randn(10), index=dates)\n",
        "print(\"Time series object with time indexed data:\")\n",
        "print(time_series)\n",
        "same_year_dates = time_series['2023']\n",
        "print(\"Dates of the same year (2023):\")\n",
        "print(same_year_dates)\n",
        "dates_between = time_series['2023-10-27':'2023-10-29']\n",
        "print(\"Dates between 2023-10-27 and 2023-10-29:\")\n",
        "print(dates_between)"
      ],
      "metadata": {
        "colab": {
          "base_uri": "https://localhost:8080/"
        },
        "id": "08So2E475TMB",
        "outputId": "18bc8879-204b-4776-c0e8-d6055c85b990"
      },
      "execution_count": null,
      "outputs": [
        {
          "output_type": "stream",
          "name": "stdout",
          "text": [
            "Time series object with time indexed data:\n",
            "2023-10-26    1.662070\n",
            "2023-10-27    0.243721\n",
            "2023-10-28   -0.706732\n",
            "2023-10-29    1.610561\n",
            "2023-10-30   -0.829405\n",
            "2023-10-31   -0.252246\n",
            "2023-11-01    0.739153\n",
            "2023-11-02   -1.663183\n",
            "2023-11-03    0.347285\n",
            "2023-11-04    0.475615\n",
            "Freq: D, dtype: float64\n",
            "Dates of the same year (2023):\n",
            "2023-10-26    1.662070\n",
            "2023-10-27    0.243721\n",
            "2023-10-28   -0.706732\n",
            "2023-10-29    1.610561\n",
            "2023-10-30   -0.829405\n",
            "2023-10-31   -0.252246\n",
            "2023-11-01    0.739153\n",
            "2023-11-02   -1.663183\n",
            "2023-11-03    0.347285\n",
            "2023-11-04    0.475615\n",
            "Freq: D, dtype: float64\n",
            "Dates between 2023-10-27 and 2023-10-29:\n",
            "2023-10-27    0.243721\n",
            "2023-10-28   -0.706732\n",
            "2023-10-29    1.610561\n",
            "Freq: D, dtype: float64\n"
          ]
        }
      ]
    },
    {
      "cell_type": "code",
      "source": [
        "# 8. Write a Pandas program to create a date range using a startpoint date and a number of periods.\n",
        "start_date = '2023-10-26'\n",
        "periods = 5\n",
        "date_range = pd.date_range(start=start_date, periods=periods)\n",
        "print(\"Date range using a startpoint date and a number of periods:\")\n",
        "print(date_range)"
      ],
      "metadata": {
        "colab": {
          "base_uri": "https://localhost:8080/"
        },
        "id": "4xI732Zl5TJA",
        "outputId": "9d66a0bc-ccec-4c14-ec1b-e26e635cb95d"
      },
      "execution_count": null,
      "outputs": [
        {
          "output_type": "stream",
          "name": "stdout",
          "text": [
            "Date range using a startpoint date and a number of periods:\n",
            "DatetimeIndex(['2023-10-26', '2023-10-27', '2023-10-28', '2023-10-29',\n",
            "               '2023-10-30'],\n",
            "              dtype='datetime64[ns]', freq='D')\n"
          ]
        }
      ]
    },
    {
      "cell_type": "code",
      "source": [
        "# 9. Write a Pandas program to create a whole month of dates in daily frequencies. Also find the maximum, minimum timestamp and indexs.\n",
        "dates = pd.date_range(start='2023-10-01', end='2023-10-31', freq='D')\n",
        "print(\"Whole month of dates in daily frequencies:\")\n",
        "print(dates)\n",
        "\n",
        "max_timestamp = np.max(dates)\n",
        "min_timestamp = np.min(dates)\n",
        "max_index = np.argmax(dates)\n",
        "min_index = np.argmin(dates)\n",
        "print(\"Maximum timestamp:\", max_timestamp)\n",
        "print(\"Minimum timestamp:\", min_timestamp)\n",
        "print(\"Maximum index:\", max_index)\n",
        "print(\"Minimum index:\", min_index)"
      ],
      "metadata": {
        "colab": {
          "base_uri": "https://localhost:8080/"
        },
        "id": "K38Awwh25TGC",
        "outputId": "f27cc875-6576-4cbd-e522-33caed12ebe5"
      },
      "execution_count": null,
      "outputs": [
        {
          "output_type": "stream",
          "name": "stdout",
          "text": [
            "Whole month of dates in daily frequencies:\n",
            "DatetimeIndex(['2023-10-01', '2023-10-02', '2023-10-03', '2023-10-04',\n",
            "               '2023-10-05', '2023-10-06', '2023-10-07', '2023-10-08',\n",
            "               '2023-10-09', '2023-10-10', '2023-10-11', '2023-10-12',\n",
            "               '2023-10-13', '2023-10-14', '2023-10-15', '2023-10-16',\n",
            "               '2023-10-17', '2023-10-18', '2023-10-19', '2023-10-20',\n",
            "               '2023-10-21', '2023-10-22', '2023-10-23', '2023-10-24',\n",
            "               '2023-10-25', '2023-10-26', '2023-10-27', '2023-10-28',\n",
            "               '2023-10-29', '2023-10-30', '2023-10-31'],\n",
            "              dtype='datetime64[ns]', freq='D')\n",
            "Maximum timestamp: 2023-10-31 00:00:00\n",
            "Minimum timestamp: 2023-10-01 00:00:00\n",
            "Maximum index: 30\n",
            "Minimum index: 0\n"
          ]
        }
      ]
    },
    {
      "cell_type": "code",
      "source": [
        "# 10. Write a Pandas program to create a time series using three months frequency.\n",
        "dates = pd.date_range(start='2023-01-01', periods=12, freq='3M')\n",
        "time_series = pd.Series(np.random.randn(12), index=dates)\n",
        "print(\"Time series using three months frequency:\")\n",
        "print(time_series)"
      ],
      "metadata": {
        "colab": {
          "base_uri": "https://localhost:8080/"
        },
        "id": "r662H4Yb5TC6",
        "outputId": "3e85fe0f-94eb-4d4f-9cc2-5add4f86698d"
      },
      "execution_count": null,
      "outputs": [
        {
          "output_type": "stream",
          "name": "stdout",
          "text": [
            "Time series using three months frequency:\n",
            "2023-01-31   -0.276074\n",
            "2023-04-30    1.724733\n",
            "2023-07-31   -0.437827\n",
            "2023-10-31    0.305720\n",
            "2024-01-31    0.147127\n",
            "2024-04-30    1.792264\n",
            "2024-07-31   -0.555230\n",
            "2024-10-31   -1.174361\n",
            "2025-01-31   -0.256621\n",
            "2025-04-30    0.950694\n",
            "2025-07-31    0.702342\n",
            "2025-10-31   -0.268071\n",
            "Freq: 3ME, dtype: float64\n"
          ]
        },
        {
          "output_type": "stream",
          "name": "stderr",
          "text": [
            "<ipython-input-22-c0dea88358f1>:2: FutureWarning: 'M' is deprecated and will be removed in a future version, please use 'ME' instead.\n",
            "  dates = pd.date_range(start='2023-01-01', periods=12, freq='3M')\n"
          ]
        }
      ]
    },
    {
      "cell_type": "code",
      "source": [
        "# 11. Write a Pandas program to create a sequence of durations increasing by an hour.\n",
        "durations = pd.timedelta_range(start='0 days', periods=10, freq='H')\n",
        "print(\"Sequence of durations increasing by an hour:\")\n",
        "print(durations)"
      ],
      "metadata": {
        "colab": {
          "base_uri": "https://localhost:8080/"
        },
        "id": "fgTuZzIM5S-5",
        "outputId": "3d5374dd-e0e3-4893-c23c-6b5c64f5e5ae"
      },
      "execution_count": null,
      "outputs": [
        {
          "output_type": "stream",
          "name": "stdout",
          "text": [
            "Sequence of durations increasing by an hour:\n",
            "TimedeltaIndex(['0 days 00:00:00', '0 days 01:00:00', '0 days 02:00:00',\n",
            "                '0 days 03:00:00', '0 days 04:00:00', '0 days 05:00:00',\n",
            "                '0 days 06:00:00', '0 days 07:00:00', '0 days 08:00:00',\n",
            "                '0 days 09:00:00'],\n",
            "               dtype='timedelta64[ns]', freq='h')\n"
          ]
        },
        {
          "output_type": "stream",
          "name": "stderr",
          "text": [
            "<ipython-input-23-4ff575a88568>:2: FutureWarning: 'H' is deprecated and will be removed in a future version, please use 'h' instead.\n",
            "  durations = pd.timedelta_range(start='0 days', periods=10, freq='H')\n"
          ]
        }
      ]
    },
    {
      "cell_type": "code",
      "source": [
        "# 12. Write a Pandas program to convert year and day of year into a single datetime column of a dataframe.\n",
        "data = {'year': [2023, 2023, 2023],\n",
        "        'day_of_year': [1, 10, 20]}\n",
        "df = pd.DataFrame(data)\n",
        "df['datetime'] = pd.to_datetime(df['year'] * 1000 + df['day_of_year'], format='%Y%j')\n",
        "print(\"\\nDataframe with year and day of year converted to a single datetime column:\")\n",
        "print(df)"
      ],
      "metadata": {
        "colab": {
          "base_uri": "https://localhost:8080/"
        },
        "id": "5oa2jV8x5S76",
        "outputId": "a8cde66f-e161-4386-d34e-d853db3e9a1d"
      },
      "execution_count": null,
      "outputs": [
        {
          "output_type": "stream",
          "name": "stdout",
          "text": [
            "\n",
            "Dataframe with year and day of year converted to a single datetime column:\n",
            "   year  day_of_year   datetime\n",
            "0  2023            1 2023-01-01\n",
            "1  2023           10 2023-01-10\n",
            "2  2023           20 2023-01-20\n"
          ]
        }
      ]
    },
    {
      "cell_type": "code",
      "source": [
        "# 13. Write a Pandas program to create a series of Timestamps from a DataFrame of integer or string columns. Also create a series of Timestamps using specified columns.\n",
        "data = {'year': [2023, 2023, 2023],\n",
        "        'month': [1, 2, 3],\n",
        "        'day': [1, 2, 3]}\n",
        "df = pd.DataFrame(data)\n",
        "timestamps = pd.to_datetime(df[['year', 'month', 'day']])\n",
        "print(\"\\nSeries of Timestamps from DataFrame:\")\n",
        "print(timestamps)"
      ],
      "metadata": {
        "colab": {
          "base_uri": "https://localhost:8080/"
        },
        "id": "7tcx9hS15S4Q",
        "outputId": "bdc2c0fb-398b-406c-9001-c53cd9051a22"
      },
      "execution_count": null,
      "outputs": [
        {
          "output_type": "stream",
          "name": "stdout",
          "text": [
            "\n",
            "Series of Timestamps from DataFrame:\n",
            "0   2023-01-01\n",
            "1   2023-02-02\n",
            "2   2023-03-03\n",
            "dtype: datetime64[ns]\n"
          ]
        }
      ]
    },
    {
      "cell_type": "code",
      "source": [
        "# 14. Write a Pandas program to check if a day is a business day (weekday) or not.\n",
        "date = pd.to_datetime('2023-10-27')\n",
        "is_business_day = pd.offsets.BDay().is_on_offset(date)\n",
        "print(\"\\nIs the day a business day (weekday)?\", is_business_day)"
      ],
      "metadata": {
        "colab": {
          "base_uri": "https://localhost:8080/"
        },
        "id": "gF7HFXQn5S1I",
        "outputId": "4f738967-28d8-4949-9bf8-6f13d46f623a"
      },
      "execution_count": null,
      "outputs": [
        {
          "output_type": "stream",
          "name": "stdout",
          "text": [
            "\n",
            "Is the day a business day (weekday)? True\n"
          ]
        }
      ]
    },
    {
      "cell_type": "code",
      "source": [
        "# 15. Write a Pandas program to get a time series with the last working days of each month of a specific year.\n",
        "year = 2023\n",
        "dates = pd.date_range(start=str(year), end=str(year + 1), freq='BM')\n",
        "time_series = pd.Series(np.random.rand(len(dates)), index=dates)\n",
        "print(\"\\nTime series with the last working days of each month of 2023:\")\n",
        "print(time_series)"
      ],
      "metadata": {
        "colab": {
          "base_uri": "https://localhost:8080/"
        },
        "id": "5fE2CFZ35SyJ",
        "outputId": "137a08bf-021a-4d3f-d7ae-0b684cc1deba"
      },
      "execution_count": null,
      "outputs": [
        {
          "output_type": "stream",
          "name": "stdout",
          "text": [
            "\n",
            "Time series with the last working days of each month of 2023:\n",
            "2023-01-31    0.368079\n",
            "2023-02-28    0.708966\n",
            "2023-03-31    0.850706\n",
            "2023-04-28    0.918637\n",
            "2023-05-31    0.276825\n",
            "2023-06-30    0.199426\n",
            "2023-07-31    0.598470\n",
            "2023-08-31    0.498601\n",
            "2023-09-29    0.025156\n",
            "2023-10-31    0.650573\n",
            "2023-11-30    0.822485\n",
            "2023-12-29    0.383400\n",
            "Freq: BME, dtype: float64\n"
          ]
        },
        {
          "output_type": "stream",
          "name": "stderr",
          "text": [
            "<ipython-input-27-1689f23fa40f>:3: FutureWarning: 'BM' is deprecated and will be removed in a future version, please use 'BME' instead.\n",
            "  dates = pd.date_range(start=str(year), end=str(year + 1), freq='BM')\n"
          ]
        }
      ]
    },
    {
      "cell_type": "code",
      "source": [
        "# 16. Write a Pandas program to create a time series combining hour and minute.\n",
        "rng = pd.date_range('2023-10-27 09:30', periods=10, freq='H')\n",
        "ts = pd.Series(range(len(rng)), index=rng)\n",
        "print(ts)"
      ],
      "metadata": {
        "colab": {
          "base_uri": "https://localhost:8080/"
        },
        "id": "ihTtmv_Y5SvA",
        "outputId": "1adc1e9c-7c20-4641-a230-33bb7715fdd9"
      },
      "execution_count": null,
      "outputs": [
        {
          "output_type": "stream",
          "name": "stdout",
          "text": [
            "2023-10-27 09:30:00    0\n",
            "2023-10-27 10:30:00    1\n",
            "2023-10-27 11:30:00    2\n",
            "2023-10-27 12:30:00    3\n",
            "2023-10-27 13:30:00    4\n",
            "2023-10-27 14:30:00    5\n",
            "2023-10-27 15:30:00    6\n",
            "2023-10-27 16:30:00    7\n",
            "2023-10-27 17:30:00    8\n",
            "2023-10-27 18:30:00    9\n",
            "Freq: h, dtype: int64\n"
          ]
        },
        {
          "output_type": "stream",
          "name": "stderr",
          "text": [
            "<ipython-input-28-398309f8cfeb>:2: FutureWarning: 'H' is deprecated and will be removed in a future version, please use 'h' instead.\n",
            "  rng = pd.date_range('2023-10-27 09:30', periods=10, freq='H')\n"
          ]
        }
      ]
    },
    {
      "cell_type": "code",
      "source": [
        "# 17. Write a Pandas program to convert unix/epoch time to a regular time stamp\n",
        "# in UTC. Also convert the said timestamp in to a given time zone.\n",
        "epoch_time = 1698425600  # Example epoch time\n",
        "utc_timestamp = pd.to_datetime(epoch_time, unit='s', utc=True)\n",
        "print(\"UTC timestamp:\", utc_timestamp)\n",
        "\n",
        "timezone = 'US/Pacific'\n",
        "timezone_timestamp = utc_timestamp.tz_convert(timezone)\n",
        "print(f\"Timestamp in {timezone}:\", timezone_timestamp)"
      ],
      "metadata": {
        "colab": {
          "base_uri": "https://localhost:8080/"
        },
        "id": "eZR8QwVP5Sr5",
        "outputId": "9873760f-66e6-490e-8e38-8f9043237289"
      },
      "execution_count": null,
      "outputs": [
        {
          "output_type": "stream",
          "name": "stdout",
          "text": [
            "UTC timestamp: 2023-10-27 16:53:20+00:00\n",
            "Timestamp in US/Pacific: 2023-10-27 09:53:20-07:00\n"
          ]
        }
      ]
    },
    {
      "cell_type": "code",
      "source": [
        "# 18. Write a Pandas program to create a time series object with a time zone.\n",
        "time_series = pd.Series(\n",
        "    range(10),\n",
        "    index=pd.date_range(\n",
        "        '2023-10-27', periods=10, freq='D', tz='US/Eastern'))\n",
        "print(\"Time series object with a time zone:\")\n",
        "print(time_series)"
      ],
      "metadata": {
        "colab": {
          "base_uri": "https://localhost:8080/"
        },
        "id": "Yrl7oXGs5SpB",
        "outputId": "47f36f82-da90-4b54-8311-c72fec1f0ec1"
      },
      "execution_count": null,
      "outputs": [
        {
          "output_type": "stream",
          "name": "stdout",
          "text": [
            "Time series object with a time zone:\n",
            "2023-10-27 00:00:00-04:00    0\n",
            "2023-10-28 00:00:00-04:00    1\n",
            "2023-10-29 00:00:00-04:00    2\n",
            "2023-10-30 00:00:00-04:00    3\n",
            "2023-10-31 00:00:00-04:00    4\n",
            "2023-11-01 00:00:00-04:00    5\n",
            "2023-11-02 00:00:00-04:00    6\n",
            "2023-11-03 00:00:00-04:00    7\n",
            "2023-11-04 00:00:00-04:00    8\n",
            "2023-11-05 00:00:00-04:00    9\n",
            "Freq: D, dtype: int64\n"
          ]
        }
      ]
    },
    {
      "cell_type": "code",
      "source": [
        "# 19. Write a Pandas program to remove the time zone information from a Time\n",
        "# series data.\n",
        "time_series_with_tz = pd.Series(\n",
        "    range(10),\n",
        "    index=pd.date_range('2023-10-27', periods=10, freq='D', tz='US/Eastern'))\n",
        "time_series_without_tz = time_series_with_tz.tz_localize(None)\n",
        "print(\"Time series without time zone information:\")\n",
        "print(time_series_without_tz)"
      ],
      "metadata": {
        "colab": {
          "base_uri": "https://localhost:8080/"
        },
        "id": "gSF7TRqN5SYi",
        "outputId": "1cfc0e9c-e83e-4d78-a105-3ce343181fce"
      },
      "execution_count": null,
      "outputs": [
        {
          "output_type": "stream",
          "name": "stdout",
          "text": [
            "Time series without time zone information:\n",
            "2023-10-27    0\n",
            "2023-10-28    1\n",
            "2023-10-29    2\n",
            "2023-10-30    3\n",
            "2023-10-31    4\n",
            "2023-11-01    5\n",
            "2023-11-02    6\n",
            "2023-11-03    7\n",
            "2023-11-04    8\n",
            "2023-11-05    9\n",
            "dtype: int64\n"
          ]
        }
      ]
    },
    {
      "cell_type": "code",
      "source": [
        "# 20. Write a Pandas program to subtract two timestamps of same time zone or\n",
        "# different time zone.\n",
        "timestamp1 = pd.Timestamp('2023-10-27 10:00:00', tz='US/Eastern')\n",
        "timestamp2 = pd.Timestamp('2023-10-26 12:00:00', tz='US/Pacific')\n",
        "time_difference = timestamp1 - timestamp2\n",
        "print(\"Time difference between two timestamps:\", time_difference)\n"
      ],
      "metadata": {
        "colab": {
          "base_uri": "https://localhost:8080/"
        },
        "id": "dZjMVDhr6YGz",
        "outputId": "4983fe43-a7da-40e8-f7ed-37367e966622"
      },
      "execution_count": null,
      "outputs": [
        {
          "output_type": "stream",
          "name": "stdout",
          "text": [
            "Time difference between two timestamps: 0 days 19:00:00\n"
          ]
        }
      ]
    },
    {
      "cell_type": "code",
      "source": [
        "# 21. Write a Pandas program to calculate all Thursdays between two given days.\n",
        "start_date = '2023-10-26'\n",
        "end_date = '2023-11-30'\n",
        "date_range = pd.date_range(start=start_date, end=end_date, freq='D')\n",
        "thursdays = [date for date in date_range if date.weekday() == 3]\n",
        "print(\"All Thursdays between\", start_date, \"and\", end_date, \"are:\")\n",
        "print(thursdays)"
      ],
      "metadata": {
        "colab": {
          "base_uri": "https://localhost:8080/"
        },
        "id": "mZ7LMHry6bAh",
        "outputId": "9cdb579d-a228-4baa-9ea5-8c4e006ea6ae"
      },
      "execution_count": null,
      "outputs": [
        {
          "output_type": "stream",
          "name": "stdout",
          "text": [
            "All Thursdays between 2023-10-26 and 2023-11-30 are:\n",
            "[Timestamp('2023-10-26 00:00:00'), Timestamp('2023-11-02 00:00:00'), Timestamp('2023-11-09 00:00:00'), Timestamp('2023-11-16 00:00:00'), Timestamp('2023-11-23 00:00:00'), Timestamp('2023-11-30 00:00:00')]\n"
          ]
        }
      ]
    },
    {
      "cell_type": "code",
      "source": [
        "# 22. Write a Pandas program to find the all the business quarterly begin and end\n",
        "# dates of a specified year.\n",
        "year = 2023\n",
        "quarter_begins = pd.date_range(start=str(year), periods=4, freq='BQ')\n",
        "quarter_ends = pd.date_range(start=str(year), periods=4, freq='BQ-JUN')\n",
        "print(\"Business quarterly begin dates:\", quarter_begins)\n",
        "print(\"Business quarterly end dates:\", quarter_ends)"
      ],
      "metadata": {
        "colab": {
          "base_uri": "https://localhost:8080/"
        },
        "id": "_Xk2ut8x6jEs",
        "outputId": "00336ab7-3af3-460f-f962-283c2c10f959"
      },
      "execution_count": null,
      "outputs": [
        {
          "output_type": "stream",
          "name": "stdout",
          "text": [
            "Business quarterly begin dates: DatetimeIndex(['2023-03-31', '2023-06-30', '2023-09-29', '2023-12-29'], dtype='datetime64[ns]', freq='BQE-DEC')\n",
            "Business quarterly end dates: DatetimeIndex(['2023-03-31', '2023-06-30', '2023-09-29', '2023-12-29'], dtype='datetime64[ns]', freq='BQE-JUN')\n"
          ]
        },
        {
          "output_type": "stream",
          "name": "stderr",
          "text": [
            "<ipython-input-34-35287510dcec>:4: FutureWarning: 'BQ' is deprecated and will be removed in a future version, please use 'BQE' instead.\n",
            "  quarter_begins = pd.date_range(start=str(year), periods=4, freq='BQ')\n",
            "<ipython-input-34-35287510dcec>:5: FutureWarning: 'BQ-JUN' is deprecated and will be removed in a future version, please use 'BQE-JUN' instead.\n",
            "  quarter_ends = pd.date_range(start=str(year), periods=4, freq='BQ-JUN')\n"
          ]
        }
      ]
    },
    {
      "cell_type": "code",
      "source": [
        "# 23. Write a Pandas program to generate sequences of fixed-frequency dates and\n",
        "# time spans intervals.\n",
        "date_range = pd.date_range('2023-10-26', periods=10, freq='H')\n",
        "print(\"Sequence of fixed-frequency dates and time spans intervals:\")\n",
        "print(date_range)"
      ],
      "metadata": {
        "colab": {
          "base_uri": "https://localhost:8080/"
        },
        "id": "rKHdsWT46lsP",
        "outputId": "ea6e0515-27d9-4a85-d7ed-2ce0b79458af"
      },
      "execution_count": null,
      "outputs": [
        {
          "output_type": "stream",
          "name": "stdout",
          "text": [
            "Sequence of fixed-frequency dates and time spans intervals:\n",
            "DatetimeIndex(['2023-10-26 00:00:00', '2023-10-26 01:00:00',\n",
            "               '2023-10-26 02:00:00', '2023-10-26 03:00:00',\n",
            "               '2023-10-26 04:00:00', '2023-10-26 05:00:00',\n",
            "               '2023-10-26 06:00:00', '2023-10-26 07:00:00',\n",
            "               '2023-10-26 08:00:00', '2023-10-26 09:00:00'],\n",
            "              dtype='datetime64[ns]', freq='h')\n"
          ]
        },
        {
          "output_type": "stream",
          "name": "stderr",
          "text": [
            "<ipython-input-35-dee9e5270efb>:3: FutureWarning: 'H' is deprecated and will be removed in a future version, please use 'h' instead.\n",
            "  date_range = pd.date_range('2023-10-26', periods=10, freq='H')\n"
          ]
        }
      ]
    },
    {
      "cell_type": "code",
      "source": [
        "# 24. Write a Pandas program to generate time series combining day and intraday\n",
        "# offsets intervals.\n",
        "date_range = pd.date_range('2023-10-26', periods=10, freq='1D1H')\n",
        "print(\"Time series combining day and intraday offsets intervals:\")\n",
        "print(date_range)"
      ],
      "metadata": {
        "colab": {
          "base_uri": "https://localhost:8080/"
        },
        "id": "qcKpa2JH6rQr",
        "outputId": "8960bfbf-e519-4126-bbea-bbaf30238363"
      },
      "execution_count": null,
      "outputs": [
        {
          "output_type": "stream",
          "name": "stdout",
          "text": [
            "Time series combining day and intraday offsets intervals:\n",
            "DatetimeIndex(['2023-10-26 00:00:00', '2023-10-27 01:00:00',\n",
            "               '2023-10-28 02:00:00', '2023-10-29 03:00:00',\n",
            "               '2023-10-30 04:00:00', '2023-10-31 05:00:00',\n",
            "               '2023-11-01 06:00:00', '2023-11-02 07:00:00',\n",
            "               '2023-11-03 08:00:00', '2023-11-04 09:00:00'],\n",
            "              dtype='datetime64[ns]', freq='25h')\n"
          ]
        },
        {
          "output_type": "stream",
          "name": "stderr",
          "text": [
            "<ipython-input-36-dd1adf261c20>:3: FutureWarning: 'H' is deprecated and will be removed in a future version, please use 'h' instead.\n",
            "  date_range = pd.date_range('2023-10-26', periods=10, freq='1D1H')\n"
          ]
        }
      ]
    },
    {
      "cell_type": "code",
      "source": [
        "# 25. Write a Pandas program to extract the day name from a specified date. Add 2\n",
        "# days and 1 business day with the specified date.\n",
        "date = pd.to_datetime('2023-10-27')\n",
        "day_name = date.day_name()\n",
        "print(\"Day name:\", day_name)\n",
        "date_plus_2_days = date + pd.Timedelta(days=2)\n",
        "print(\"Date plus 2 days:\", date_plus_2_days)\n",
        "date_plus_1_business_day = date + pd.offsets.BDay(1)\n",
        "print(\"Date plus 1 business day:\", date_plus_1_business_day)"
      ],
      "metadata": {
        "colab": {
          "base_uri": "https://localhost:8080/"
        },
        "id": "8ZA6cFoo6vL4",
        "outputId": "687d9d54-5dfb-4166-db45-4fc92e11dfa6"
      },
      "execution_count": null,
      "outputs": [
        {
          "output_type": "stream",
          "name": "stdout",
          "text": [
            "Day name: Friday\n",
            "Date plus 2 days: 2023-10-29 00:00:00\n",
            "Date plus 1 business day: 2023-10-30 00:00:00\n"
          ]
        }
      ]
    },
    {
      "cell_type": "code",
      "source": [
        "# 26. Write a Pandas program to convert integer or float epoch times to Timestamp\n",
        "# and DatetimeIndex.\n",
        "epoch_times = [1698425600, 1698425601, 1698425602]  # Example epoch times\n",
        "timestamps = pd.to_datetime(epoch_times, unit='s')\n",
        "print(\"Timestamps from epoch times:\")\n",
        "print(timestamps)\n",
        "\n",
        "datetime_index = pd.DatetimeIndex(pd.to_datetime(epoch_times, unit='s'))\n",
        "print(\"\\nDatetimeIndex from epoch times:\")\n",
        "print(datetime_index)"
      ],
      "metadata": {
        "colab": {
          "base_uri": "https://localhost:8080/"
        },
        "id": "Q3pvtrbE60FF",
        "outputId": "284e2834-fa32-4964-91df-51069013af52"
      },
      "execution_count": null,
      "outputs": [
        {
          "output_type": "stream",
          "name": "stdout",
          "text": [
            "Timestamps from epoch times:\n",
            "DatetimeIndex(['2023-10-27 16:53:20', '2023-10-27 16:53:21',\n",
            "               '2023-10-27 16:53:22'],\n",
            "              dtype='datetime64[ns]', freq=None)\n",
            "\n",
            "DatetimeIndex from epoch times:\n",
            "DatetimeIndex(['2023-10-27 16:53:20', '2023-10-27 16:53:21',\n",
            "               '2023-10-27 16:53:22'],\n",
            "              dtype='datetime64[ns]', freq=None)\n"
          ]
        }
      ]
    },
    {
      "cell_type": "code",
      "source": [
        "# 27. Write a Pandas program to calculate one, two, three business day(s) from a\n",
        "# specified date. Also find the next business month end from a specific date.\n",
        "date = pd.to_datetime('2023-10-27')\n",
        "one_business_day = date + pd.offsets.BDay(1)\n",
        "two_business_days = date + pd.offsets.BDay(2)\n",
        "three_business_days = date + pd.offsets.BDay(3)\n",
        "\n",
        "print(\"One business day from the specified date:\", one_business_day)\n",
        "print(\"Two business days from the specified date:\", two_business_days)\n",
        "print(\"Three business days from the specified date:\", three_business_days)\n",
        "\n",
        "next_business_month_end = date + pd.offsets.BMonthEnd(1)\n",
        "print(\"Next business month end from the specified date:\",\n",
        "      next_business_month_end)\n"
      ],
      "metadata": {
        "colab": {
          "base_uri": "https://localhost:8080/"
        },
        "id": "LP4tyO-s64Bo",
        "outputId": "3e064a5d-bb05-4baa-bb0a-b36fa5112846"
      },
      "execution_count": null,
      "outputs": [
        {
          "output_type": "stream",
          "name": "stdout",
          "text": [
            "One business day from the specified date: 2023-10-30 00:00:00\n",
            "Two business days from the specified date: 2023-10-31 00:00:00\n",
            "Three business days from the specified date: 2023-11-01 00:00:00\n",
            "Next business month end from the specified date: 2023-10-31 00:00:00\n"
          ]
        }
      ]
    },
    {
      "cell_type": "code",
      "source": [
        "# 28. Write a Pandas program to create a period index represent all monthly\n",
        "# boundaries of a given year. Also print start and end time for each period object\n",
        "# in the said index.\n",
        "year = 2023\n",
        "period_index = pd.period_range(start=str(year), periods=12, freq='M')\n",
        "print(\"Period index representing monthly boundaries of\", year, \":\")\n",
        "print(period_index)\n",
        "\n",
        "for period in period_index:\n",
        "  print(\"Period:\", period)\n",
        "  print(\"Start time:\", period.start_time)\n",
        "  print(\"End time:\", period.end_time)\n"
      ],
      "metadata": {
        "colab": {
          "base_uri": "https://localhost:8080/"
        },
        "id": "01iBSkdt67AV",
        "outputId": "61899ef5-d121-4525-cc04-ee66796f921c"
      },
      "execution_count": null,
      "outputs": [
        {
          "output_type": "stream",
          "name": "stdout",
          "text": [
            "Period index representing monthly boundaries of 2023 :\n",
            "PeriodIndex(['2023-01', '2023-02', '2023-03', '2023-04', '2023-05', '2023-06',\n",
            "             '2023-07', '2023-08', '2023-09', '2023-10', '2023-11', '2023-12'],\n",
            "            dtype='period[M]')\n",
            "Period: 2023-01\n",
            "Start time: 2023-01-01 00:00:00\n",
            "End time: 2023-01-31 23:59:59.999999999\n",
            "Period: 2023-02\n",
            "Start time: 2023-02-01 00:00:00\n",
            "End time: 2023-02-28 23:59:59.999999999\n",
            "Period: 2023-03\n",
            "Start time: 2023-03-01 00:00:00\n",
            "End time: 2023-03-31 23:59:59.999999999\n",
            "Period: 2023-04\n",
            "Start time: 2023-04-01 00:00:00\n",
            "End time: 2023-04-30 23:59:59.999999999\n",
            "Period: 2023-05\n",
            "Start time: 2023-05-01 00:00:00\n",
            "End time: 2023-05-31 23:59:59.999999999\n",
            "Period: 2023-06\n",
            "Start time: 2023-06-01 00:00:00\n",
            "End time: 2023-06-30 23:59:59.999999999\n",
            "Period: 2023-07\n",
            "Start time: 2023-07-01 00:00:00\n",
            "End time: 2023-07-31 23:59:59.999999999\n",
            "Period: 2023-08\n",
            "Start time: 2023-08-01 00:00:00\n",
            "End time: 2023-08-31 23:59:59.999999999\n",
            "Period: 2023-09\n",
            "Start time: 2023-09-01 00:00:00\n",
            "End time: 2023-09-30 23:59:59.999999999\n",
            "Period: 2023-10\n",
            "Start time: 2023-10-01 00:00:00\n",
            "End time: 2023-10-31 23:59:59.999999999\n",
            "Period: 2023-11\n",
            "Start time: 2023-11-01 00:00:00\n",
            "End time: 2023-11-30 23:59:59.999999999\n",
            "Period: 2023-12\n",
            "Start time: 2023-12-01 00:00:00\n",
            "End time: 2023-12-31 23:59:59.999999999\n"
          ]
        }
      ]
    },
    {
      "cell_type": "code",
      "source": [
        "# 29. Write a Pandas program create a series with a PeriodIndex which represents\n",
        "# all the calendar month periods in 2029 and 2031. Also print the values for all\n",
        "# periods in 2030.\n",
        "# Note: PeriodIndex is an immutable ndarray holding ordinal values indicating\n",
        "# regular periods in time such as particular years, quarters, months, etc.\n",
        "\n",
        "period_index = pd.period_range('2029-01', '2031-12', freq='M')\n",
        "\n",
        "series = pd.Series(np.random.randn(len(period_index)), index=period_index)\n",
        "\n",
        "print(series['2030'])"
      ],
      "metadata": {
        "colab": {
          "base_uri": "https://localhost:8080/"
        },
        "id": "uBOLw2vV6-Qz",
        "outputId": "6cc9b8ef-926d-4bec-b8c2-704d36b8e59b"
      },
      "execution_count": null,
      "outputs": [
        {
          "output_type": "stream",
          "name": "stdout",
          "text": [
            "2030-01   -0.170823\n",
            "2030-02   -0.438590\n",
            "2030-03    0.568525\n",
            "2030-04    0.055735\n",
            "2030-05    0.587711\n",
            "2030-06   -0.359799\n",
            "2030-07   -0.905974\n",
            "2030-08   -0.492765\n",
            "2030-09   -1.279610\n",
            "2030-10   -1.571186\n",
            "2030-11   -1.563732\n",
            "2030-12    0.628419\n",
            "Freq: M, dtype: float64\n"
          ]
        }
      ]
    },
    {
      "cell_type": "code",
      "source": [
        "# 30. Write a Pandas program to generate holidays between two dates using the\n",
        "# US federal holiday calendar.\n",
        "\n",
        "from pandas.tseries.holiday import USFederalHolidayCalendar\n",
        "\n",
        "start_date = '2023-01-01'\n",
        "end_date = '2023-12-31'\n",
        "\n",
        "cal = USFederalHolidayCalendar()\n",
        "holidays = cal.holidays(start=start_date, end=end_date)\n",
        "\n",
        "print(holidays)"
      ],
      "metadata": {
        "colab": {
          "base_uri": "https://localhost:8080/"
        },
        "id": "vkMGwIXh7Iri",
        "outputId": "bbbc39a2-ddc0-4886-d710-676ac8edd3c9"
      },
      "execution_count": null,
      "outputs": [
        {
          "output_type": "stream",
          "name": "stdout",
          "text": [
            "DatetimeIndex(['2023-01-02', '2023-01-16', '2023-02-20', '2023-05-29',\n",
            "               '2023-06-19', '2023-07-04', '2023-09-04', '2023-10-09',\n",
            "               '2023-11-10', '2023-11-23', '2023-12-25'],\n",
            "              dtype='datetime64[ns]', freq=None)\n"
          ]
        }
      ]
    },
    {
      "cell_type": "code",
      "source": [
        "# 31. Write a Pandas program to create a monthly time period and display the list\n",
        "# of names in the current local scope.\n",
        "\n",
        "period = pd.Period('2023-10', freq='M')\n",
        "print(dir())\n"
      ],
      "metadata": {
        "colab": {
          "base_uri": "https://localhost:8080/"
        },
        "id": "RcA65rwY7L6g",
        "outputId": "0c8685c7-1265-4916-fbb9-384a3c7bbc87"
      },
      "execution_count": null,
      "outputs": [
        {
          "output_type": "stream",
          "name": "stdout",
          "text": [
            "['In', 'Out', 'USFederalHolidayCalendar', '_', '_2', '_3', '_4', '_5', '_6', '__', '___', '__builtin__', '__builtins__', '__doc__', '__loader__', '__name__', '__package__', '__spec__', '_dh', '_i', '_i1', '_i10', '_i11', '_i12', '_i13', '_i14', '_i15', '_i16', '_i17', '_i18', '_i19', '_i2', '_i20', '_i21', '_i22', '_i23', '_i24', '_i25', '_i26', '_i27', '_i28', '_i29', '_i3', '_i30', '_i31', '_i32', '_i33', '_i34', '_i35', '_i36', '_i37', '_i38', '_i39', '_i4', '_i40', '_i41', '_i42', '_i43', '_i5', '_i6', '_i7', '_i8', '_i9', '_ih', '_ii', '_iii', '_oh', 'cal', 'current_date', 'data', 'date', 'date_from_components', 'date_from_string', 'date_plus_1_business_day', 'date_plus_2_days', 'date_range', 'dates', 'dates_between', 'datetime_index', 'day_after', 'day_before', 'day_name', 'days_between', 'df', 'durations', 'end_date', 'epoch_time', 'epoch_times', 'exit', 'get_ipython', 'holidays', 'index_type', 'is_business_day', 'max_index', 'max_timestamp', 'min_index', 'min_timestamp', 'next_business_month_end', 'np', 'one_business_day', 'pd', 'period', 'period_index', 'periods', 'plt', 'quarter_begins', 'quarter_ends', 'quit', 'random_values', 'rng', 'same_year_dates', 'series', 'sns', 'start_date', 'three_business_days', 'thursdays', 'time_difference', 'time_series', 'time_series_with_tz', 'time_series_without_tz', 'timestamp1', 'timestamp2', 'timestamps', 'timezone', 'timezone_timestamp', 'tomorrow_date', 'ts', 'two_business_days', 'utc_timestamp', 'year', 'yesterday_date']\n"
          ]
        }
      ]
    },
    {
      "cell_type": "code",
      "source": [
        "# 32. Write a Pandas program to create a yearly time period from a specified year\n",
        "# and display the properties of this period.\n",
        "\n",
        "year = 2023\n",
        "yearly_period = pd.Period(year, freq='A')\n",
        "\n",
        "print(\"Yearly time period:\", yearly_period)\n",
        "print(\"Start time:\", yearly_period.start_time)\n",
        "print(\"End time:\", yearly_period.end_time)\n",
        "print(\"Year:\", yearly_period.year)"
      ],
      "metadata": {
        "id": "g7rmkiWZ7P7d",
        "outputId": "34f2af94-51cf-4766-bc9d-5e87ccedf244",
        "colab": {
          "base_uri": "https://localhost:8080/"
        }
      },
      "execution_count": null,
      "outputs": [
        {
          "output_type": "stream",
          "name": "stdout",
          "text": [
            "Yearly time period: 2023\n",
            "Start time: 2023-01-01 00:00:00\n",
            "End time: 2023-12-31 23:59:59.999999999\n",
            "Year: 2023\n"
          ]
        },
        {
          "output_type": "stream",
          "name": "stderr",
          "text": [
            "<ipython-input-44-f08a1d0e5a98>:5: FutureWarning: 'A' is deprecated and will be removed in a future version, please use 'Y' instead.\n",
            "  yearly_period = pd.Period(year, freq='A')\n"
          ]
        }
      ]
    },
    {
      "cell_type": "code",
      "source": [],
      "metadata": {
        "id": "HlFOzAtv7U0-"
      },
      "execution_count": null,
      "outputs": []
    }
  ]
}