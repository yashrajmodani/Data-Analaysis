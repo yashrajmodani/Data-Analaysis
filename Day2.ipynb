{
  "nbformat": 4,
  "nbformat_minor": 0,
  "metadata": {
    "colab": {
      "provenance": []
    },
    "kernelspec": {
      "name": "python3",
      "display_name": "Python 3"
    },
    "language_info": {
      "name": "python"
    }
  },
  "cells": [
    {
      "cell_type": "code",
      "execution_count": 63,
      "metadata": {
        "id": "mGquPSqbj77n"
      },
      "outputs": [],
      "source": [
        "import numpy as np\n",
        "import pandas as pd\n",
        "import random"
      ]
    },
    {
      "cell_type": "code",
      "source": [
        "# 1. Write a NumPy program to get the numpy version and show numpy build configuration.\n",
        "np.__version__"
      ],
      "metadata": {
        "colab": {
          "base_uri": "https://localhost:8080/",
          "height": 36
        },
        "id": "FOaMhu1fkAiD",
        "outputId": "b92a0c00-b60c-45f8-e232-7b4cb8184c24"
      },
      "execution_count": 4,
      "outputs": [
        {
          "output_type": "execute_result",
          "data": {
            "text/plain": [
              "'1.26.4'"
            ],
            "application/vnd.google.colaboratory.intrinsic+json": {
              "type": "string"
            }
          },
          "metadata": {},
          "execution_count": 4
        }
      ]
    },
    {
      "cell_type": "code",
      "source": [
        "# 2. Write a NumPy program to get help on the add function.\n",
        "a = np.array([1,2,3])\n",
        "b = np.array([4,5,6])\n",
        "c = a+b\n",
        "print(c)"
      ],
      "metadata": {
        "colab": {
          "base_uri": "https://localhost:8080/"
        },
        "id": "K1jk7a6MkAff",
        "outputId": "543fe58a-e109-416b-bc49-026f04c11d76"
      },
      "execution_count": 10,
      "outputs": [
        {
          "output_type": "stream",
          "name": "stdout",
          "text": [
            "[5 7 9]\n"
          ]
        }
      ]
    },
    {
      "cell_type": "code",
      "source": [
        "# 3. Write a NumPy program to test whether none of the elements of a given array is zero.\n",
        "x = np.array([0,1,2,3,4])\n",
        "print(np.all(x))"
      ],
      "metadata": {
        "colab": {
          "base_uri": "https://localhost:8080/"
        },
        "id": "A2FslW8_kAc0",
        "outputId": "6f9809e7-fd87-4fc9-abc9-b7fbf736e0e7"
      },
      "execution_count": 12,
      "outputs": [
        {
          "output_type": "stream",
          "name": "stdout",
          "text": [
            "False\n"
          ]
        }
      ]
    },
    {
      "cell_type": "code",
      "source": [
        "# 4. Write a NumPy program to test whether any of the elements of a given array is non-zero.\n",
        "\n",
        "x = np.array([1,2,3,4])\n",
        "print(np.all(x))"
      ],
      "metadata": {
        "colab": {
          "base_uri": "https://localhost:8080/"
        },
        "id": "QWagFaO3kAad",
        "outputId": "b7a9d402-2ba0-4d68-a8af-3d5aeabcc7a6"
      },
      "execution_count": 13,
      "outputs": [
        {
          "output_type": "stream",
          "name": "stdout",
          "text": [
            "True\n"
          ]
        }
      ]
    },
    {
      "cell_type": "code",
      "source": [
        "# 5. Write a NumPy program to test a given array element-wise for finiteness (not infinity or not a Number).\n",
        "\n",
        "print(np.isfinite(x))"
      ],
      "metadata": {
        "colab": {
          "base_uri": "https://localhost:8080/"
        },
        "id": "Vux85rc0kAXz",
        "outputId": "c9dec738-f1e8-4907-f6a0-42dc899ccbc9"
      },
      "execution_count": 14,
      "outputs": [
        {
          "output_type": "stream",
          "name": "stdout",
          "text": [
            "[ True  True  True  True]\n"
          ]
        }
      ]
    },
    {
      "cell_type": "code",
      "source": [
        "# 6. Write a NumPy program to test element-wise for positive or negative infinity.\n",
        "\n",
        "print(np.isinf(x))"
      ],
      "metadata": {
        "colab": {
          "base_uri": "https://localhost:8080/"
        },
        "id": "pypZWbLPkAVm",
        "outputId": "5248f19c-c6b0-4593-89c7-699e775f506d"
      },
      "execution_count": 15,
      "outputs": [
        {
          "output_type": "stream",
          "name": "stdout",
          "text": [
            "[False False False False]\n"
          ]
        }
      ]
    },
    {
      "cell_type": "code",
      "source": [
        "# 7. Write a NumPy program to test element-wise for NaN of a given array.\n",
        "print(np.isnan(x))"
      ],
      "metadata": {
        "colab": {
          "base_uri": "https://localhost:8080/"
        },
        "id": "j2tsUrlEkAS_",
        "outputId": "b1f64895-2e10-4eb9-fb71-72f3dfbdfaea"
      },
      "execution_count": 16,
      "outputs": [
        {
          "output_type": "stream",
          "name": "stdout",
          "text": [
            "[False False False False]\n"
          ]
        }
      ]
    },
    {
      "cell_type": "code",
      "source": [
        "# 8. Write a NumPy program to test element-wise for complex number, real number of a given array. Also\n",
        "# test whether a given number is a scalar type or not.\n",
        "a = np.array([1+1j, 1+0j, 4.5, 3, 2, 2j])\n",
        "\n",
        "print(np.iscomplex(a))\n",
        "\n"
      ],
      "metadata": {
        "colab": {
          "base_uri": "https://localhost:8080/"
        },
        "id": "ZW42jQ-ukAQk",
        "outputId": "48fc1d6a-6b33-4e41-a410-e972c911c07b"
      },
      "execution_count": 20,
      "outputs": [
        {
          "output_type": "stream",
          "name": "stdout",
          "text": [
            "[ True False False False False  True]\n"
          ]
        }
      ]
    },
    {
      "cell_type": "code",
      "source": [
        "print(np.isreal(a))"
      ],
      "metadata": {
        "colab": {
          "base_uri": "https://localhost:8080/"
        },
        "id": "JRKhTh7EkAOM",
        "outputId": "86547765-eeb4-4183-f65b-45322ad745a2"
      },
      "execution_count": 18,
      "outputs": [
        {
          "output_type": "stream",
          "name": "stdout",
          "text": [
            "[False  True  True  True  True False]\n"
          ]
        }
      ]
    },
    {
      "cell_type": "code",
      "source": [
        "a = np.array(2)\n",
        "np.isscalar([a])"
      ],
      "metadata": {
        "colab": {
          "base_uri": "https://localhost:8080/"
        },
        "id": "nfUqA9tiqgNl",
        "outputId": "44f90b46-0277-4ccd-df50-ab8178557918"
      },
      "execution_count": 38,
      "outputs": [
        {
          "output_type": "execute_result",
          "data": {
            "text/plain": [
              "False"
            ]
          },
          "metadata": {},
          "execution_count": 38
        }
      ]
    },
    {
      "cell_type": "code",
      "source": [
        "print(np.isscalar(5))"
      ],
      "metadata": {
        "colab": {
          "base_uri": "https://localhost:8080/"
        },
        "id": "USCtae8EkALz",
        "outputId": "64eb11ea-6a71-45c7-cea0-112fbbb597d1"
      },
      "execution_count": 36,
      "outputs": [
        {
          "output_type": "stream",
          "name": "stdout",
          "text": [
            "True\n"
          ]
        }
      ]
    },
    {
      "cell_type": "code",
      "source": [
        "# 9. Write a NumPy program to create an element-wise comparison (greater, greater_equal, less and\n",
        "# less_equal) of two given arrays.\n",
        "x = np.array([1,4,5,6,9])\n",
        "y = np.array([3,2,4,8,9])\n",
        "\n",
        "np.greater(x,y)\n"
      ],
      "metadata": {
        "colab": {
          "base_uri": "https://localhost:8080/"
        },
        "id": "xTMaxCRwkAJn",
        "outputId": "be467be9-3ed7-4e1b-98e9-d7fc96ac3ebd"
      },
      "execution_count": 43,
      "outputs": [
        {
          "output_type": "execute_result",
          "data": {
            "text/plain": [
              "array([False,  True,  True, False, False])"
            ]
          },
          "metadata": {},
          "execution_count": 43
        }
      ]
    },
    {
      "cell_type": "code",
      "source": [
        "np.greater_equal(x,y)"
      ],
      "metadata": {
        "colab": {
          "base_uri": "https://localhost:8080/"
        },
        "id": "-Qho9aaBkAHN",
        "outputId": "d93f56b1-5ab1-483a-ef2e-618250a911ee"
      },
      "execution_count": 44,
      "outputs": [
        {
          "output_type": "execute_result",
          "data": {
            "text/plain": [
              "array([False,  True,  True, False,  True])"
            ]
          },
          "metadata": {},
          "execution_count": 44
        }
      ]
    },
    {
      "cell_type": "code",
      "source": [
        "np.less(x,y)"
      ],
      "metadata": {
        "colab": {
          "base_uri": "https://localhost:8080/"
        },
        "id": "3sB2u97_kAEt",
        "outputId": "a36d3261-5492-490a-a45f-b2e2fb825b4f"
      },
      "execution_count": 45,
      "outputs": [
        {
          "output_type": "execute_result",
          "data": {
            "text/plain": [
              "array([ True, False, False,  True, False])"
            ]
          },
          "metadata": {},
          "execution_count": 45
        }
      ]
    },
    {
      "cell_type": "code",
      "source": [
        "np.less_equal(x,y)"
      ],
      "metadata": {
        "colab": {
          "base_uri": "https://localhost:8080/"
        },
        "id": "t2eOsuqpkACV",
        "outputId": "9ad266bb-9e56-456f-8034-ab1dc26b3b12"
      },
      "execution_count": 47,
      "outputs": [
        {
          "output_type": "execute_result",
          "data": {
            "text/plain": [
              "array([ True, False, False,  True,  True])"
            ]
          },
          "metadata": {},
          "execution_count": 47
        }
      ]
    },
    {
      "cell_type": "code",
      "source": [
        "# 10. Write a NumPy program to create an array with the values 1, 7, 13, 105 and determine the size of the\n",
        "# memory occupied by the array.\n",
        "\n",
        "a = np.array([1, 7, 13, 105])\n",
        "a.nbytes #memory in bytes"
      ],
      "metadata": {
        "colab": {
          "base_uri": "https://localhost:8080/"
        },
        "id": "H_c3Jnh7kAAE",
        "outputId": "35b1a33d-9080-42e0-c9ef-7b3d8357954b"
      },
      "execution_count": 52,
      "outputs": [
        {
          "output_type": "execute_result",
          "data": {
            "text/plain": [
              "32"
            ]
          },
          "metadata": {},
          "execution_count": 52
        }
      ]
    },
    {
      "cell_type": "code",
      "source": [
        "# 11. Write a NumPy program to create an array of 10 zeros,10 ones, 10 fives.\n",
        "\n",
        "np.zeros(10)\n"
      ],
      "metadata": {
        "colab": {
          "base_uri": "https://localhost:8080/"
        },
        "id": "WUFBG4oCj_98",
        "outputId": "93a2ce53-a827-491d-8f08-62eb47b8926d"
      },
      "execution_count": 56,
      "outputs": [
        {
          "output_type": "execute_result",
          "data": {
            "text/plain": [
              "array([0., 0., 0., 0., 0., 0., 0., 0., 0., 0.])"
            ]
          },
          "metadata": {},
          "execution_count": 56
        }
      ]
    },
    {
      "cell_type": "code",
      "source": [
        "np.ones(10)"
      ],
      "metadata": {
        "colab": {
          "base_uri": "https://localhost:8080/"
        },
        "id": "k_U-j2F-j_7d",
        "outputId": "41f0bc09-01b7-412d-ef28-d87569a5bc2d"
      },
      "execution_count": 55,
      "outputs": [
        {
          "output_type": "execute_result",
          "data": {
            "text/plain": [
              "array([1., 1., 1., 1., 1., 1., 1., 1., 1., 1.])"
            ]
          },
          "metadata": {},
          "execution_count": 55
        }
      ]
    },
    {
      "cell_type": "code",
      "source": [
        "np.ones(10)*5"
      ],
      "metadata": {
        "colab": {
          "base_uri": "https://localhost:8080/"
        },
        "id": "kRFcl1Hcj_5M",
        "outputId": "af4e5819-6b94-4fb5-ee9d-46ceea4ca556"
      },
      "execution_count": 57,
      "outputs": [
        {
          "output_type": "execute_result",
          "data": {
            "text/plain": [
              "array([5., 5., 5., 5., 5., 5., 5., 5., 5., 5.])"
            ]
          },
          "metadata": {},
          "execution_count": 57
        }
      ]
    },
    {
      "cell_type": "code",
      "source": [
        "# 12. Write a NumPy program to create an array of the integers from 30 to70.\n",
        "np.arange(30,70)"
      ],
      "metadata": {
        "colab": {
          "base_uri": "https://localhost:8080/"
        },
        "id": "gP-JTQhij_3G",
        "outputId": "133e13f5-5e19-43d7-b16c-aa66bdea9618"
      },
      "execution_count": 58,
      "outputs": [
        {
          "output_type": "execute_result",
          "data": {
            "text/plain": [
              "array([30, 31, 32, 33, 34, 35, 36, 37, 38, 39, 40, 41, 42, 43, 44, 45, 46,\n",
              "       47, 48, 49, 50, 51, 52, 53, 54, 55, 56, 57, 58, 59, 60, 61, 62, 63,\n",
              "       64, 65, 66, 67, 68, 69])"
            ]
          },
          "metadata": {},
          "execution_count": 58
        }
      ]
    },
    {
      "cell_type": "code",
      "source": [
        "# 13. Write a NumPy program to create an array of all the even integers from 30 to 70.\n",
        "\n",
        "np.arange(30,70,2)"
      ],
      "metadata": {
        "colab": {
          "base_uri": "https://localhost:8080/"
        },
        "id": "zTTdZKl2j_00",
        "outputId": "b6460890-75ba-40b7-f6ca-9629f1e5ca6f"
      },
      "execution_count": 59,
      "outputs": [
        {
          "output_type": "execute_result",
          "data": {
            "text/plain": [
              "array([30, 32, 34, 36, 38, 40, 42, 44, 46, 48, 50, 52, 54, 56, 58, 60, 62,\n",
              "       64, 66, 68])"
            ]
          },
          "metadata": {},
          "execution_count": 59
        }
      ]
    },
    {
      "cell_type": "code",
      "source": [
        "# 14. Write a NumPy program to create a 3x3 identity matrix.\n",
        "\n",
        "np.identity(3)"
      ],
      "metadata": {
        "colab": {
          "base_uri": "https://localhost:8080/"
        },
        "id": "-uqyVingj_ys",
        "outputId": "abaa800a-4c16-4b66-a5c4-f7ebaa62a80e"
      },
      "execution_count": 61,
      "outputs": [
        {
          "output_type": "execute_result",
          "data": {
            "text/plain": [
              "array([[1., 0., 0.],\n",
              "       [0., 1., 0.],\n",
              "       [0., 0., 1.]])"
            ]
          },
          "metadata": {},
          "execution_count": 61
        }
      ]
    },
    {
      "cell_type": "code",
      "source": [
        "# 15. Write a NumPy program to generate a random number between 0 and 1.\n",
        "\n",
        "np.random.rand(1)"
      ],
      "metadata": {
        "colab": {
          "base_uri": "https://localhost:8080/"
        },
        "id": "YXd2Mctxj_w8",
        "outputId": "a3c2a760-f07c-4a8e-f020-3918cfa8e76a"
      },
      "execution_count": 76,
      "outputs": [
        {
          "output_type": "execute_result",
          "data": {
            "text/plain": [
              "array([0.75633695])"
            ]
          },
          "metadata": {},
          "execution_count": 76
        }
      ]
    },
    {
      "cell_type": "code",
      "source": [
        "# 16. Write a NumPy program to generate an array of 15 random numbers from a standard normal distribution.\n",
        "\n",
        "np.random.randn(15)"
      ],
      "metadata": {
        "colab": {
          "base_uri": "https://localhost:8080/"
        },
        "id": "f79DOOh9j_uO",
        "outputId": "a058c50d-abc0-4a26-ddb8-73d97cdd0f66"
      },
      "execution_count": 77,
      "outputs": [
        {
          "output_type": "execute_result",
          "data": {
            "text/plain": [
              "array([-1.24034953, -0.3535119 , -0.18558821,  1.30542042,  0.52752139,\n",
              "        1.47822869, -0.17347522,  0.42898308,  1.398793  ,  0.14567077,\n",
              "        0.20050291,  1.55283997, -0.66907486, -1.19105477,  0.26003955])"
            ]
          },
          "metadata": {},
          "execution_count": 77
        }
      ]
    },
    {
      "cell_type": "code",
      "source": [
        "# 17. Write a NumPy program to create a vector with values ranging from 15 to 55 and print all values\n",
        "# except the first and last.\n",
        "\n",
        "a = np.arange(15,56)\n",
        "print(a)\n",
        "slice = a[1:-1]\n",
        "print(slice)"
      ],
      "metadata": {
        "colab": {
          "base_uri": "https://localhost:8080/"
        },
        "id": "-SPiWTf5j_r0",
        "outputId": "c18be2d7-5ace-4401-c7ac-22191cd5668a"
      },
      "execution_count": 82,
      "outputs": [
        {
          "output_type": "stream",
          "name": "stdout",
          "text": [
            "[15 16 17 18 19 20 21 22 23 24 25 26 27 28 29 30 31 32 33 34 35 36 37 38\n",
            " 39 40 41 42 43 44 45 46 47 48 49 50 51 52 53 54 55]\n",
            "[16 17 18 19 20 21 22 23 24 25 26 27 28 29 30 31 32 33 34 35 36 37 38 39\n",
            " 40 41 42 43 44 45 46 47 48 49 50 51 52 53 54]\n"
          ]
        }
      ]
    },
    {
      "cell_type": "code",
      "source": [
        "# 18. Write a NumPy program to create a 3X4 array.\n",
        "\n",
        "np.random.randint(1,10,(3,4))"
      ],
      "metadata": {
        "colab": {
          "base_uri": "https://localhost:8080/"
        },
        "id": "buEwHCfwj_pc",
        "outputId": "12b6ea31-31be-4f4f-fc9e-f74ec0ede1c2"
      },
      "execution_count": 88,
      "outputs": [
        {
          "output_type": "execute_result",
          "data": {
            "text/plain": [
              "array([[4, 4, 2, 1],\n",
              "       [2, 9, 7, 9],\n",
              "       [1, 4, 8, 6]])"
            ]
          },
          "metadata": {},
          "execution_count": 88
        }
      ]
    },
    {
      "cell_type": "code",
      "source": [
        "# 19. Write a NumPy program to create a vector of length 10 with values evenly distributed\n",
        "# between 5 and 50.\n",
        "\n",
        "np.linspace(5,50,10)"
      ],
      "metadata": {
        "colab": {
          "base_uri": "https://localhost:8080/"
        },
        "id": "eSTaXKKXj_nM",
        "outputId": "2d5dbcc2-6e43-43c3-d6a2-edbc59eba85f"
      },
      "execution_count": 89,
      "outputs": [
        {
          "output_type": "execute_result",
          "data": {
            "text/plain": [
              "array([ 5., 10., 15., 20., 25., 30., 35., 40., 45., 50.])"
            ]
          },
          "metadata": {},
          "execution_count": 89
        }
      ]
    },
    {
      "cell_type": "code",
      "source": [
        "# 20. Write a NumPy program to create a vector with values from 0 to 20 and change the sign of the\n",
        "# numbers in the range from 9 to 15.\n",
        "\n",
        "a = np.arange(20)\n",
        "a"
      ],
      "metadata": {
        "colab": {
          "base_uri": "https://localhost:8080/"
        },
        "id": "HZq677cZj_k0",
        "outputId": "ee19134d-c95a-4de3-ce46-29421fbf9170"
      },
      "execution_count": 116,
      "outputs": [
        {
          "output_type": "execute_result",
          "data": {
            "text/plain": [
              "array([ 0,  1,  2,  3,  4,  5,  6,  7,  8,  9, 10, 11, 12, 13, 14, 15, 16,\n",
              "       17, 18, 19])"
            ]
          },
          "metadata": {},
          "execution_count": 116
        }
      ]
    },
    {
      "cell_type": "code",
      "source": [
        "slice_of_arr = (-(a[9:16]))\n",
        "print(slice_of_arr)\n",
        "print(a)"
      ],
      "metadata": {
        "colab": {
          "base_uri": "https://localhost:8080/"
        },
        "id": "6ojvlpMW1wyq",
        "outputId": "a80d3680-eb0c-405b-ac3b-c0bf0763e2a2"
      },
      "execution_count": 118,
      "outputs": [
        {
          "output_type": "stream",
          "name": "stdout",
          "text": [
            "[ -9 -10 -11 -12 -13 -14 -15]\n",
            "[ 0  1  2  3  4  5  6  7  8  9 10 11 12 13 14 15 16 17 18 19]\n"
          ]
        }
      ]
    },
    {
      "cell_type": "code",
      "source": [
        "a"
      ],
      "metadata": {
        "colab": {
          "base_uri": "https://localhost:8080/"
        },
        "id": "cVahNzXN1yD6",
        "outputId": "e70d5cdd-1bdf-4d52-dc0b-96f2fd3c6d3b"
      },
      "execution_count": 111,
      "outputs": [
        {
          "output_type": "execute_result",
          "data": {
            "text/plain": [
              "array([ 0,  1,  2,  3,  4,  5,  6,  7,  8,  9, 10, 11, 12, 13, 14, 15, 16,\n",
              "       17, 18, 19])"
            ]
          },
          "metadata": {},
          "execution_count": 111
        }
      ]
    },
    {
      "cell_type": "code",
      "source": [
        "# 21. Write a NumPy program to create a vector of length 5 filled with arbitrary integers from 0 to 10.\n",
        "np.random.randint(0,10,5)"
      ],
      "metadata": {
        "colab": {
          "base_uri": "https://localhost:8080/"
        },
        "id": "Qt2ydW0NyFTk",
        "outputId": "a7138003-56da-460f-8adc-8825aced10cd"
      },
      "execution_count": 142,
      "outputs": [
        {
          "output_type": "execute_result",
          "data": {
            "text/plain": [
              "array([4, 6, 2, 9, 3])"
            ]
          },
          "metadata": {},
          "execution_count": 142
        }
      ]
    },
    {
      "cell_type": "code",
      "source": [
        "# 22. Write a NumPy program to multiply the values of two given vectors.\n",
        "a = np.arange(5)\n",
        "print(a)\n",
        "print(a * a)"
      ],
      "metadata": {
        "colab": {
          "base_uri": "https://localhost:8080/"
        },
        "id": "BM8k_s03yFR5",
        "outputId": "1b8cefdf-8335-4819-f944-5d5a3ebb195f"
      },
      "execution_count": 100,
      "outputs": [
        {
          "output_type": "stream",
          "name": "stdout",
          "text": [
            "[0 1 2 3 4]\n",
            "[ 0  1  4  9 16]\n"
          ]
        }
      ]
    },
    {
      "cell_type": "code",
      "source": [
        "# 23. Write a NumPy program to create a 3x4 matrix filled with values from 10 to 21.\n",
        "\n",
        "a = np.random.randint(10,21,(3,4))\n",
        "a"
      ],
      "metadata": {
        "colab": {
          "base_uri": "https://localhost:8080/"
        },
        "id": "6VapOIU4yFQW",
        "outputId": "e6d41215-7e8e-4ea1-d224-fda08c196591"
      },
      "execution_count": 113,
      "outputs": [
        {
          "output_type": "execute_result",
          "data": {
            "text/plain": [
              "array([[17, 19, 16, 17],\n",
              "       [18, 11, 11, 12],\n",
              "       [11, 19, 16, 18]])"
            ]
          },
          "metadata": {},
          "execution_count": 113
        }
      ]
    },
    {
      "cell_type": "code",
      "source": [
        "# 24. Write a NumPy program to find the number of rows and columns of a given matrix.\n",
        "\n",
        "print(a.shape)\n",
        "rows = a.shape[0]\n",
        "print(rows)\n",
        "col = a.shape[1]\n",
        "print(col)"
      ],
      "metadata": {
        "colab": {
          "base_uri": "https://localhost:8080/"
        },
        "id": "ejD73_NGyFOx",
        "outputId": "d122df31-ff73-499b-d8d5-da8efa103dbb"
      },
      "execution_count": 114,
      "outputs": [
        {
          "output_type": "stream",
          "name": "stdout",
          "text": [
            "(3, 4)\n",
            "3\n",
            "4\n"
          ]
        }
      ]
    },
    {
      "cell_type": "code",
      "source": [
        "# 25. Write a NumPy program to create a 3x3 identity matrix, i.e. diagonal elements are 1, the rest are 0.\n",
        "\n",
        "np.identity(3)\n"
      ],
      "metadata": {
        "colab": {
          "base_uri": "https://localhost:8080/"
        },
        "id": "Gj28_xacyFNM",
        "outputId": "c5268421-e6ec-4abf-c24e-9927b5677086"
      },
      "execution_count": 120,
      "outputs": [
        {
          "output_type": "execute_result",
          "data": {
            "text/plain": [
              "array([[1., 0., 0.],\n",
              "       [0., 1., 0.],\n",
              "       [0., 0., 1.]])"
            ]
          },
          "metadata": {},
          "execution_count": 120
        }
      ]
    },
    {
      "cell_type": "code",
      "source": [
        "# 26. Write a NumPy program to create a 10x10 matrix, in which the elements on the borders will be\n",
        "# equal to 1, and inside 0.\n",
        "\n",
        "a = np.ones((10,10))\n",
        "a[1:-1,1:-1] = 0\n",
        "a"
      ],
      "metadata": {
        "colab": {
          "base_uri": "https://localhost:8080/"
        },
        "id": "Izn99U2zyFLx",
        "outputId": "621c0e55-f89d-461d-fe25-a030db33fa48"
      },
      "execution_count": 133,
      "outputs": [
        {
          "output_type": "execute_result",
          "data": {
            "text/plain": [
              "array([[1., 1., 1., 1., 1., 1., 1., 1., 1., 1.],\n",
              "       [1., 0., 0., 0., 0., 0., 0., 0., 0., 1.],\n",
              "       [1., 0., 0., 0., 0., 0., 0., 0., 0., 1.],\n",
              "       [1., 0., 0., 0., 0., 0., 0., 0., 0., 1.],\n",
              "       [1., 0., 0., 0., 0., 0., 0., 0., 0., 1.],\n",
              "       [1., 0., 0., 0., 0., 0., 0., 0., 0., 1.],\n",
              "       [1., 0., 0., 0., 0., 0., 0., 0., 0., 1.],\n",
              "       [1., 0., 0., 0., 0., 0., 0., 0., 0., 1.],\n",
              "       [1., 0., 0., 0., 0., 0., 0., 0., 0., 1.],\n",
              "       [1., 1., 1., 1., 1., 1., 1., 1., 1., 1.]])"
            ]
          },
          "metadata": {},
          "execution_count": 133
        }
      ]
    },
    {
      "cell_type": "code",
      "source": [
        "# 27. Write a NumPy program to create a 5x5 zero matrix with elements on the main diagonal equal to 1, 2,\n",
        "# 3, 4, 5.\n",
        "a = np.diag([1,2,3,4,5])\n",
        "a"
      ],
      "metadata": {
        "colab": {
          "base_uri": "https://localhost:8080/"
        },
        "id": "fO6ckVRfyFJ9",
        "outputId": "6390851a-bb0a-45d0-ee0d-bef3f5d0522d"
      },
      "execution_count": 145,
      "outputs": [
        {
          "output_type": "execute_result",
          "data": {
            "text/plain": [
              "array([[1, 0, 0, 0, 0],\n",
              "       [0, 2, 0, 0, 0],\n",
              "       [0, 0, 3, 0, 0],\n",
              "       [0, 0, 0, 4, 0],\n",
              "       [0, 0, 0, 0, 5]])"
            ]
          },
          "metadata": {},
          "execution_count": 145
        }
      ]
    },
    {
      "cell_type": "code",
      "source": [
        "# 28. Write a NumPy program to create a 3x3x3 array filled with arbitrary values.\n",
        "\n",
        "np.random.randint(10,50,(3,3,3))"
      ],
      "metadata": {
        "colab": {
          "base_uri": "https://localhost:8080/"
        },
        "id": "FfsGNFp6yFH-",
        "outputId": "7a619df8-e329-49a7-b859-a24225744826"
      },
      "execution_count": 146,
      "outputs": [
        {
          "output_type": "execute_result",
          "data": {
            "text/plain": [
              "array([[[11, 33, 21],\n",
              "        [42, 36, 20],\n",
              "        [45, 30, 39]],\n",
              "\n",
              "       [[41, 13, 41],\n",
              "        [39, 24, 18],\n",
              "        [21, 41, 21]],\n",
              "\n",
              "       [[49, 19, 17],\n",
              "        [29, 42, 43],\n",
              "        [32, 48, 19]]])"
            ]
          },
          "metadata": {},
          "execution_count": 146
        }
      ]
    },
    {
      "cell_type": "code",
      "source": [
        "# 29. Write a NumPy program to compute the inner product of two given vectors.\n",
        "\n",
        "a = np.array([1,2,3])\n",
        "b = np.array([3,4,5])\n",
        "np.dot(a,b)"
      ],
      "metadata": {
        "colab": {
          "base_uri": "https://localhost:8080/"
        },
        "id": "MJQoAB5wyFGc",
        "outputId": "362326da-0427-4971-e246-9664eabd5d03"
      },
      "execution_count": 147,
      "outputs": [
        {
          "output_type": "execute_result",
          "data": {
            "text/plain": [
              "26"
            ]
          },
          "metadata": {},
          "execution_count": 147
        }
      ]
    },
    {
      "cell_type": "code",
      "source": [
        "# 30. Write a NumPy program to sort a given array by row and column in ascending order.\n",
        "\n",
        "a = np.array([[11, 33, 21],\n",
        "        [42, 36, 20],\n",
        "        [45, 30, 39]])\n",
        "\n",
        "row = np.sort(a)\n",
        "row"
      ],
      "metadata": {
        "colab": {
          "base_uri": "https://localhost:8080/"
        },
        "id": "cVXlM7hcyFEl",
        "outputId": "995c9bf4-0374-4f4d-cff7-9f749cb749d5"
      },
      "execution_count": 149,
      "outputs": [
        {
          "output_type": "execute_result",
          "data": {
            "text/plain": [
              "array([[11, 21, 33],\n",
              "       [20, 36, 42],\n",
              "       [30, 39, 45]])"
            ]
          },
          "metadata": {},
          "execution_count": 149
        }
      ]
    },
    {
      "cell_type": "code",
      "source": [
        "col = np.sort(a,axis = 0)\n",
        "col"
      ],
      "metadata": {
        "colab": {
          "base_uri": "https://localhost:8080/"
        },
        "id": "IUuuC87IyFC5",
        "outputId": "bdbb3f25-ae99-45fa-fce0-b65a77949c86"
      },
      "execution_count": 153,
      "outputs": [
        {
          "output_type": "execute_result",
          "data": {
            "text/plain": [
              "array([[11, 30, 20],\n",
              "       [42, 33, 21],\n",
              "       [45, 36, 39]])"
            ]
          },
          "metadata": {},
          "execution_count": 153
        }
      ]
    },
    {
      "cell_type": "code",
      "source": [
        "# 31. Write a NumPy program to extract all numbers from a given array which are less and greater\n",
        "# than a specified number.\n",
        "\n",
        "np.extract(a>25,a)"
      ],
      "metadata": {
        "colab": {
          "base_uri": "https://localhost:8080/"
        },
        "id": "HC9mg6QRyFBJ",
        "outputId": "28718be5-9b40-4441-90f0-df2885389b35"
      },
      "execution_count": 156,
      "outputs": [
        {
          "output_type": "execute_result",
          "data": {
            "text/plain": [
              "array([33, 42, 36, 45, 30, 39])"
            ]
          },
          "metadata": {},
          "execution_count": 156
        }
      ]
    },
    {
      "cell_type": "code",
      "source": [
        "# 32. Write a NumPy program to replace all numbers in a given array which is equal, less and greater to a\n",
        "# given number.\n",
        "arr = np.array([1,5,8,9,12,36,77])\n",
        "number  = 10\n",
        "arr = np.where(arr < number,1,arr)\n",
        "arr = np.where(arr > number,0,arr)\n",
        "arr"
      ],
      "metadata": {
        "colab": {
          "base_uri": "https://localhost:8080/"
        },
        "id": "Yxh6MN-5yE_a",
        "outputId": "5ddce31b-a268-4377-ae6d-cb87d7660604"
      },
      "execution_count": 161,
      "outputs": [
        {
          "output_type": "execute_result",
          "data": {
            "text/plain": [
              "array([1, 1, 1, 1, 0, 0, 0])"
            ]
          },
          "metadata": {},
          "execution_count": 161
        }
      ]
    },
    {
      "cell_type": "code",
      "source": [
        "# 33. Write a NumPy program to create an array of equal shape and data type of a given array.\n",
        "\n",
        "x = np.random.randint(1,10,(3,3))\n",
        "print(x)\n",
        "print(x.dtype)"
      ],
      "metadata": {
        "colab": {
          "base_uri": "https://localhost:8080/"
        },
        "id": "I2pe2z9xyE9s",
        "outputId": "024b84c0-3f21-4d8b-eb39-56aaa1809d95"
      },
      "execution_count": 163,
      "outputs": [
        {
          "output_type": "stream",
          "name": "stdout",
          "text": [
            "[[7 2 2]\n",
            " [8 2 3]\n",
            " [5 1 9]]\n",
            "int64\n"
          ]
        }
      ]
    },
    {
      "cell_type": "code",
      "source": [
        "# 34. Write a NumPy program to create a three-dimension array with shape (3,5,4) and set to a variable\n",
        "\n",
        "a = np.random.randint(1,100,(3,5,4))\n",
        "a"
      ],
      "metadata": {
        "colab": {
          "base_uri": "https://localhost:8080/"
        },
        "id": "lOHnP7a6yE8C",
        "outputId": "c63f713a-4fc0-4aaa-810d-651af3483b99"
      },
      "execution_count": 164,
      "outputs": [
        {
          "output_type": "execute_result",
          "data": {
            "text/plain": [
              "array([[[47, 32, 35, 51],\n",
              "        [42, 24, 18, 92],\n",
              "        [23, 41, 40, 35],\n",
              "        [71, 10, 75, 10],\n",
              "        [80, 87, 36, 47]],\n",
              "\n",
              "       [[50, 81,  4,  8],\n",
              "        [33, 60, 45, 71],\n",
              "        [12,  2,  5, 29],\n",
              "        [65, 48, 57, 54],\n",
              "        [58, 79, 39, 21]],\n",
              "\n",
              "       [[93, 35,  1, 29],\n",
              "        [43, 87, 35, 56],\n",
              "        [38, 72, 95, 49],\n",
              "        [22, 97,  5, 68],\n",
              "        [86, 56, 53, 45]]])"
            ]
          },
          "metadata": {},
          "execution_count": 164
        }
      ]
    },
    {
      "cell_type": "code",
      "source": [
        "# 35. Write a NumPy program to multiply two given arrays of same size element-by-element.\n",
        "\n",
        "nums1 = np.array([[2, 5, 2],\n",
        "              [1, 5, 5]])\n",
        "\n",
        "nums2 = np.array([[5, 3, 4],\n",
        "              [3, 2, 5]])\n",
        "\n",
        "np.multiply(nums1,nums2)"
      ],
      "metadata": {
        "colab": {
          "base_uri": "https://localhost:8080/"
        },
        "id": "5DpH8Ye1yE6J",
        "outputId": "eb04b953-f943-45ef-bd1f-69483d78634f"
      },
      "execution_count": 165,
      "outputs": [
        {
          "output_type": "execute_result",
          "data": {
            "text/plain": [
              "array([[10, 15,  8],\n",
              "       [ 3, 10, 25]])"
            ]
          },
          "metadata": {},
          "execution_count": 165
        }
      ]
    },
    {
      "cell_type": "code",
      "source": [],
      "metadata": {
        "id": "tEf-3SpWyE2h"
      },
      "execution_count": null,
      "outputs": []
    },
    {
      "cell_type": "code",
      "source": [],
      "metadata": {
        "id": "wOpIO4zFyEz6"
      },
      "execution_count": null,
      "outputs": []
    },
    {
      "cell_type": "code",
      "source": [],
      "metadata": {
        "id": "Lqat1ILMyExV"
      },
      "execution_count": null,
      "outputs": []
    },
    {
      "cell_type": "code",
      "source": [],
      "metadata": {
        "id": "LABz5UXOyEue"
      },
      "execution_count": null,
      "outputs": []
    },
    {
      "cell_type": "code",
      "source": [],
      "metadata": {
        "id": "UNK5UqkvyEr4"
      },
      "execution_count": null,
      "outputs": []
    },
    {
      "cell_type": "code",
      "source": [],
      "metadata": {
        "id": "RIbVjWJ3yEpb"
      },
      "execution_count": null,
      "outputs": []
    },
    {
      "cell_type": "code",
      "source": [],
      "metadata": {
        "id": "a42-rRh9yEm-"
      },
      "execution_count": null,
      "outputs": []
    },
    {
      "cell_type": "code",
      "source": [],
      "metadata": {
        "id": "G1p7ql0JyEkU"
      },
      "execution_count": null,
      "outputs": []
    },
    {
      "cell_type": "code",
      "source": [],
      "metadata": {
        "id": "GFretG0vyEh4"
      },
      "execution_count": null,
      "outputs": []
    },
    {
      "cell_type": "code",
      "source": [],
      "metadata": {
        "id": "CA10vVCEyEfG"
      },
      "execution_count": null,
      "outputs": []
    },
    {
      "cell_type": "code",
      "source": [],
      "metadata": {
        "id": "wMoFQVvSyEcm"
      },
      "execution_count": null,
      "outputs": []
    },
    {
      "cell_type": "code",
      "source": [],
      "metadata": {
        "id": "d7mOw4yryEaJ"
      },
      "execution_count": null,
      "outputs": []
    },
    {
      "cell_type": "code",
      "source": [],
      "metadata": {
        "id": "GAT_c93VyEXg"
      },
      "execution_count": null,
      "outputs": []
    },
    {
      "cell_type": "code",
      "source": [],
      "metadata": {
        "id": "PrVBdJ8PyEVH"
      },
      "execution_count": null,
      "outputs": []
    },
    {
      "cell_type": "code",
      "source": [],
      "metadata": {
        "id": "-hPkRIQUyEP_"
      },
      "execution_count": null,
      "outputs": []
    },
    {
      "cell_type": "code",
      "source": [],
      "metadata": {
        "id": "6gskO_4qyENQ"
      },
      "execution_count": null,
      "outputs": []
    }
  ]
}